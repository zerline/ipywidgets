{
 "cells": [
  {
   "cell_type": "code",
   "execution_count": null,
   "metadata": {},
   "outputs": [],
   "source": [
    "from ipywidgets import *"
   ]
  },
  {
   "cell_type": "code",
   "execution_count": null,
   "metadata": {},
   "outputs": [],
   "source": [
    "t = Text(\"text input\")\n",
    "b = Button(description=\"button\")\n",
    "HBox((t,b))"
   ]
  },
  {
   "cell_type": "code",
   "execution_count": null,
   "metadata": {},
   "outputs": [],
   "source": [
    "#t.layout.__dict__"
   ]
  },
  {
   "cell_type": "code",
   "execution_count": null,
   "metadata": {},
   "outputs": [],
   "source": [
    "t.layout.border_style = \"solid\""
   ]
  },
  {
   "cell_type": "code",
   "execution_count": null,
   "metadata": {},
   "outputs": [],
   "source": [
    "t.layout.border_color = \"blue green red yellow\"\n",
    "t.layout.border_style = \"solid dashed spotted none\"\n",
    "t.layout.border_width = \"1 2 3 4\""
   ]
  },
  {
   "cell_type": "code",
   "execution_count": null,
   "metadata": {},
   "outputs": [],
   "source": [
    "t.layout.border_style = \"dashed dashed dashed dashed\""
   ]
  },
  {
   "cell_type": "code",
   "execution_count": null,
   "metadata": {},
   "outputs": [],
   "source": [
    "b.layout.border_color = \"green red yellow blue\"\n",
    "b.layout.border_style = \"solid dashed spotted none\"\n",
    "b.layout.border_width = \"1 2 3 4\""
   ]
  },
  {
   "cell_type": "code",
   "execution_count": null,
   "metadata": {},
   "outputs": [],
   "source": [
    "t.style.border = \"1px solid red\"\n",
    "b.style.border = \"1px solid red\""
   ]
  },
  {
   "cell_type": "code",
   "execution_count": null,
   "metadata": {},
   "outputs": [],
   "source": [
    "t.style.background_color = \"lightpurple\"\n",
    "b.style.background_color = \"lightpurple\""
   ]
  },
  {
   "cell_type": "code",
   "execution_count": null,
   "metadata": {},
   "outputs": [],
   "source": [
    "#t.style.__dict__"
   ]
  },
  {
   "cell_type": "code",
   "execution_count": null,
   "metadata": {},
   "outputs": [],
   "source": [
    "t1 = Text(\"1\")\n",
    "t2 = Text(\"2\")\n",
    "t3 = Text(\"3\")\n",
    "t4 = Text(\"4\")\n",
    "t5 = Text(\"5\")\n",
    "t6 = Text(\"6\")\n",
    "\n",
    "B = VBox((HBox((t1,t2,t3)), HBox((t4,t5,t6))))\n",
    "#    HBox(children=(Text(\"1\"), Text(\"2\"), Text(\"3\"))),\n",
    "#    HBox(children=(Text(\"4\"), Text(\"5\"), Text(\"6\")))))\n",
    "B.layout.border_color = \"orange\"\n",
    "B"
   ]
  },
  {
   "cell_type": "code",
   "execution_count": null,
   "metadata": {},
   "outputs": [],
   "source": [
    "t1.layout.border_color = \"red\"\n",
    "t2.layout.border_color = \"red\"\n",
    "t3.layout.border_color = \"red\"\n",
    "t4.layout.border_color = \"red\"\n",
    "t5.layout.border_color = \"red\"\n",
    "t6.layout.border_color = \"red\"\n",
    "\n",
    "t1.layout.border_width = \"2\""
   ]
  },
  {
   "cell_type": "code",
   "execution_count": null,
   "metadata": {},
   "outputs": [],
   "source": [
    "B.layout.border_collapse = \"collapse\""
   ]
  }
 ],
 "metadata": {
  "kernelspec": {
   "display_name": "Python 3",
   "language": "python",
   "name": "python3"
  },
  "language_info": {
   "codemirror_mode": {
    "name": "ipython",
    "version": 3
   },
   "file_extension": ".py",
   "mimetype": "text/x-python",
   "name": "python",
   "nbconvert_exporter": "python",
   "pygments_lexer": "ipython3",
   "version": "3.7.3"
  }
 },
 "nbformat": 4,
 "nbformat_minor": 2
}
