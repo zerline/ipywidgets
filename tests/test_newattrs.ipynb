{
 "cells": [
  {
   "cell_type": "code",
   "execution_count": null,
   "metadata": {},
   "outputs": [],
   "source": [
    "from ipywidgets import *"
   ]
  },
  {
   "cell_type": "code",
   "execution_count": null,
   "metadata": {},
   "outputs": [],
   "source": [
    "t = Text('My text input')\n",
    "t"
   ]
  },
  {
   "cell_type": "code",
   "execution_count": null,
   "metadata": {},
   "outputs": [],
   "source": [
    "t.focus()\n",
    "#t.set_tabbable()\n",
    "#t.set_tooltip(\"ouiii\")\n",
    "#t.__dict__"
   ]
  },
  {
   "cell_type": "code",
   "execution_count": null,
   "metadata": {},
   "outputs": [],
   "source": [
    "l = Label(\"Some new widget attributes\")\n",
    "d = Dropdown(options=(\"First option\", \"Second option\"))\n",
    "ta = Textarea()\n",
    "b = Button()\n",
    "tb = ToggleButton()\n",
    "c = Combobox(options=(\"First comboo ption\", \"Second combo option\"))"
   ]
  },
  {
   "cell_type": "code",
   "execution_count": null,
   "metadata": {},
   "outputs": [],
   "source": [
    "w = VBox((l, HBox((t,d, b)), HBox((c,ta, tb))))\n",
    "w"
   ]
  },
  {
   "cell_type": "code",
   "execution_count": null,
   "metadata": {},
   "outputs": [],
   "source": [
    "l.set_tooltip(\"This is a label\")\n",
    "d.set_tooltip(\"This is a dropdown\")\n",
    "t.set_tooltip(\"This is a text input\")\n",
    "ta.set_tooltip(\"This is a text area\")\n",
    "b.set_tooltip(\"This is a regular button\")\n",
    "tb.set_tooltip(\"This is a toggle button\")\n",
    "c.set_tooltip(\"This is a combobox\")"
   ]
  },
  {
   "cell_type": "code",
   "execution_count": null,
   "metadata": {},
   "outputs": [],
   "source": [
    "l.set_tabbable()\n",
    "tb.set_untabbable()\n",
    "b.set_untabbable()\n",
    "ta.focus()"
   ]
  }
 ],
 "metadata": {
  "kernelspec": {
   "display_name": "Python 3",
   "language": "python",
   "name": "python3"
  },
  "language_info": {
   "codemirror_mode": {
    "name": "ipython",
    "version": 3
   },
   "file_extension": ".py",
   "mimetype": "text/x-python",
   "name": "python",
   "nbconvert_exporter": "python",
   "pygments_lexer": "ipython3",
   "version": "3.7.3"
  }
 },
 "nbformat": 4,
 "nbformat_minor": 2
}
